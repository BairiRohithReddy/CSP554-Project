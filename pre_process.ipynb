{
 "cells": [
  {
   "cell_type": "code",
   "execution_count": 1,
   "id": "f5739e6c",
   "metadata": {},
   "outputs": [],
   "source": [
    "import re\n",
    "from pyspark.sql.functions import col, regexp_replace, lower, trim, ceil, split, when, date_format, to_date, to_timestamp\n",
    "from pyspark.sql.types import StringType, DoubleType, TimestampType, DateType\n",
    "from pyspark import StorageLevel\n",
    "import json\n",
    "from pyspark.sql.functions import round as spark_round\n",
    "\n",
    "\n",
    "def preprocess_data(data):\n",
    "\n",
    "    # Check for missing values\n",
    "    data = data.dropna()\n",
    "    \n",
    "    # Remove duplicates\n",
    "    data = data.dropDuplicates(df.columns)\n",
    "\n",
    "\n",
    "    # Define cache level\n",
    "    cache_level = StorageLevel.MEMORY_AND_DISK\n",
    "\n",
    "    # Iterate through each column in the data\n",
    "    for col_name in data.columns:\n",
    "\n",
    "        col_dtype = str(data.schema[col_name].dataType)\n",
    "        print(col_name, \":\", col_dtype)\n",
    "\n",
    "        # Check if column is Date type\n",
    "        if col_dtype == \"DateType()\":\n",
    "\n",
    "            # Check if column contains date or timestamp data\n",
    "            if \"date\" in col_name.lower():\n",
    "\n",
    "                # Convert to standard date format\n",
    "                data = data.withColumn(col_name, to_date(col(col_name), \"yyyy-MM-dd\"))\n",
    "\n",
    "            elif \"time\" in col_name.lower() or \"timestamp\" in col_name.lower():\n",
    "\n",
    "                # Convert to standard timestamp format\n",
    "                data = data.withColumn(col_name, to_timestamp(col(col_name), \"yyyy-MM-dd HH:mm:ss\"))\n",
    "\n",
    "\n",
    "        # Check if column is float type\n",
    "        elif col_dtype == \"FloatType()\":\n",
    "\n",
    "            # Ceil values to two decimal places\n",
    "            data = data.withColumn(col_name, ceil(col(col_name) * 100) / 100)\n",
    "\n",
    "        # Check if column is numeric type\n",
    "        elif col_dtype == \"DoubleType()\":\n",
    "\n",
    "            # Remove non-numeric characters from string\n",
    "            data = data.withColumn(col_name, spark_round(col(col_name), 2))\n",
    "            data = data.withColumn(col_name, regexp_replace(col(col_name), \"[^0-9.]\", \"\"))\n",
    "            data = data.withColumn(col_name, when(col(col_name) == \"\", None).otherwise(col(col_name)))\n",
    "            data = data.withColumn(col_name, col(col_name).cast(DoubleType()))\n",
    "\n",
    "\n",
    "        # Check if column is string type\n",
    "        elif col_dtype == \"StringType()\":\n",
    "\n",
    "            # Convert to lowercase\n",
    "            data = data.withColumn(col_name, lower(col(col_name)))\n",
    "\n",
    "            # Remove special characters\n",
    "            special_chars = r'[^a-zA-Z0-9\\s]'\n",
    "            \n",
    "            data = data.withColumn(col_name, regexp_replace(col(col_name), special_chars, ' '))\n",
    "\n",
    "            # Remove extra spaces\n",
    "            data = data.withColumn(col_name, trim(col(col_name)))\n",
    "\n",
    "\n",
    "    # Return processed data\n",
    "    return data\n"
   ]
  },
  {
   "cell_type": "markdown",
   "id": "46660539",
   "metadata": {},
   "source": [
    "**<h1>Implementing the module on a dataset</h1>**"
   ]
  },
  {
   "cell_type": "markdown",
   "id": "f2fb32a8",
   "metadata": {},
   "source": [
    "<h3>Dataset-1</h3>\n",
    "\n",
    "This dataset contains details about the global green house gas emmisions by various livestock perkg per edible weight of livestock per year"
   ]
  },
  {
   "cell_type": "code",
   "execution_count": 2,
   "id": "d7ba3f9f",
   "metadata": {},
   "outputs": [
    {
     "name": "stdout",
     "output_type": "stream",
     "text": [
      "Entity : StringType()\n",
      "Year : IntegerType()\n",
      "Greenhouse gas emissions (kg / kg edible weight) : DoubleType()\n",
      "+--------------------+----+------------------------------------------------+\n",
      "|              Entity|Year|Greenhouse gas emissions (kg / kg edible weight)|\n",
      "+--------------------+----+------------------------------------------------+\n",
      "|   Bivalves (farmed)|2021|                                      1.39912623|\n",
      "|     Bivalves (wild)|2021|                                     11.40004939|\n",
      "|       Carp (farmed)|2021|                                     6.946922702|\n",
      "|    Catfish (farmed)|2021|                                     7.774491103|\n",
      "|             Chicken|2021|                                           8.335|\n",
      "| Cod, haddock (wild)|2021|                                     5.125038766|\n",
      "|     Flounder (wild)|2021|                                     20.31331444|\n",
      "|Herring, sardines...|2021|                                     3.877940448|\n",
      "|    Jack fish (wild)|2021|                                     9.665174349|\n",
      "|      Lobster (wild)|2021|                                     19.44495157|\n",
      "|   Milkfish (farmed)|2021|                                     6.434886518|\n",
      "|Other freshwater ...|2021|                                     18.90592209|\n",
      "|Other marine fish...|2021|                                     11.59517858|\n",
      "|Redfish, bass (wild)|2021|                                     9.914649563|\n",
      "|     Salmon (farmed)|2021|                                     5.100985973|\n",
      "|Salmon, trout (wild)|2021|                                     6.881338695|\n",
      "|    Seaweed (farmed)|2021|                                     1.086722561|\n",
      "|     Shrimp (farmed)|2021|                                     9.428015643|\n",
      "|       Shrimp (wild)|2021|                                     11.95673939|\n",
      "|Silver/bighead (f...|2021|                                     3.510591001|\n",
      "+--------------------+----+------------------------------------------------+\n",
      "only showing top 20 rows\n",
      "\n",
      "+--------------------+----+------------------------------------------------+\n",
      "|              Entity|Year|Greenhouse gas emissions (kg / kg edible weight)|\n",
      "+--------------------+----+------------------------------------------------+\n",
      "|silver bighead  f...|2021|                                            3.51|\n",
      "|        shrimp  wild|2021|                                           11.96|\n",
      "|    bivalves  farmed|2021|                                             1.4|\n",
      "|other freshwater ...|2021|                                           18.91|\n",
      "|  cod  haddock  wild|2021|                                            5.13|\n",
      "| redfish  bass  wild|2021|                                            9.91|\n",
      "|      flounder  wild|2021|                                           20.31|\n",
      "|other marine fish...|2021|                                            11.6|\n",
      "|     catfish  farmed|2021|                                            7.77|\n",
      "|     seaweed  farmed|2021|                                            1.09|\n",
      "|      salmon  farmed|2021|                                             5.1|\n",
      "| salmon  trout  wild|2021|                                            6.88|\n",
      "|     jack fish  wild|2021|                                            9.67|\n",
      "|         squid  wild|2021|                                            8.18|\n",
      "|       trout  farmed|2021|                                            5.41|\n",
      "|          tuna  wild|2021|                                            7.63|\n",
      "|      bivalves  wild|2021|                                            11.4|\n",
      "|       lobster  wild|2021|                                           19.44|\n",
      "|     tilapia  farmed|2021|                                           10.68|\n",
      "|        carp  farmed|2021|                                            6.95|\n",
      "+--------------------+----+------------------------------------------------+\n",
      "only showing top 20 rows\n",
      "\n"
     ]
    }
   ],
   "source": [
    "import pandas as pd\n",
    "from pyspark.sql import SparkSession\n",
    "#from data_processing import preprocess_data\n",
    "\n",
    "# create SparkSession\n",
    "spark = SparkSession.builder.appName(\"DataPreprocessing\").getOrCreate()\n",
    "\n",
    "# read CSV file into DataFrame\n",
    "df = spark.read.format(\"csv\").option(\"header\", \"true\").option(\"inferSchema\", \"true\").load(\"C:/Users/rohit/OneDrive/Desktop/BDT/ghg.csv\")\n",
    "\n",
    "# call preprocess_data function\n",
    "processed_df = preprocess_data(df)\n",
    "#Raw file\n",
    "df.show()\n",
    "# show processed data\n",
    "processed_df.show()"
   ]
  },
  {
   "cell_type": "code",
   "execution_count": 3,
   "id": "7f195d2e",
   "metadata": {},
   "outputs": [
    {
     "name": "stdout",
     "output_type": "stream",
     "text": [
      "total number of records before preprocessing : 25\n",
      "total number of records after preprocessing : 24\n"
     ]
    }
   ],
   "source": [
    "print(\"total number of records before preprocessing :\",df.count())\n",
    "print(\"total number of records after preprocessing :\", processed_df.count())"
   ]
  },
  {
   "cell_type": "markdown",
   "id": "58651ab0",
   "metadata": {},
   "source": [
    "**<h3>Dataset-2</h3>**\n",
    "\n",
    "This is a movie dataset containing details of movies released in the years listed."
   ]
  },
  {
   "cell_type": "code",
   "execution_count": 4,
   "id": "5b308a9e",
   "metadata": {},
   "outputs": [
    {
     "name": "stdout",
     "output_type": "stream",
     "text": [
      "show_id : StringType()\n",
      "type : StringType()\n",
      "title : StringType()\n",
      "director : StringType()\n",
      "country : StringType()\n",
      "date_added : StringType()\n",
      "release_year : StringType()\n",
      "rating : StringType()\n",
      "duration : StringType()\n",
      "listed_in : StringType()\n",
      "+-------+-------+--------------------+--------------------+-------------+----------+------------+------+--------+--------------------+\n",
      "|show_id|   type|               title|            director|      country|date_added|release_year|rating|duration|           listed_in|\n",
      "+-------+-------+--------------------+--------------------+-------------+----------+------------+------+--------+--------------------+\n",
      "|    s57|  movie|naruto shippuden ...|     masahiko murata|        japan| 9 15 2021|        2011| tv 14| 102 min|action   adventur...|\n",
      "|  s5789|  movie|mariusz ka amaga ...|           not given|     pakistan| 9 19 2016|        2016| tv ma|  69 min|     stand up comedy|\n",
      "|  s6774|tv show|food  delicious s...|           not given|     pakistan| 10 1 2017|        2017| tv pg|1 season|docuseries  scien...|\n",
      "|   s595|  movie|           star trek|         j j  abrams|united states|  7 1 2021|        2009| pg 13| 128 min|action   adventur...|\n",
      "|   s948|  movie|       state of play|     kevin macdonald|united states|  5 1 2021|        2009| pg 13| 127 min|   dramas  thrillers|\n",
      "|  s1412|  movie|what would sophia...|       ross kauffman|united states| 1 15 2021|        2021| tv 14|  32 min|       documentaries|\n",
      "|  s1605|  movie|ari eldj rn  pard...|    august jakobsson|      iceland| 12 2 2020|        2020| tv ma|  54 min|     stand up comedy|\n",
      "|  s2637|  movie|the international...|        ahmed medhat|        egypt| 4 25 2020|        2009| tv 14|  93 min|dramas  internati...|\n",
      "|  s2703|  movie|tiffany haddish  ...|      chris robinson|united states|  4 7 2020|        2017| tv ma|  66 min|     stand up comedy|\n",
      "|  s2759|  movie|through my father...|        gary stretch|       canada| 3 31 2020|        2019|     r| 104 min|documentaries  sp...|\n",
      "|  s2934|  movie|            polaroid|       lars klevberg|united states|  2 9 2020|        2019| pg 13|  88 min|       horror movies|\n",
      "|  s3163|  movie|   it comes at night|  trey edward shults|united states| 12 9 2019|        2017|     r|  92 min|horror movies  in...|\n",
      "|  s3462|tv show|  cheese in the trap|       lee yoon jung|  south korea| 10 1 2019|        2016| tv 14|1 season|international tv ...|\n",
      "|  s5271|  movie|first they killed...|      angelina jolie|     cambodia| 9 15 2017|        2017| tv ma| 137 min|              dramas|\n",
      "|  s5330|  movie|chocolate city  v...|jean claude la marre|united states| 8 12 2017|        2017| tv ma|  90 min|              dramas|\n",
      "|  s5757|  movie|justin timberlake...|      jonathan demme|united states|10 12 2016|        2016| tv ma|  90 min|    music   musicals|\n",
      "|  s5865|  movie|crouching tiger  ...|        yuen wo ping|        china| 2 26 2016|        2016| pg 13| 101 min|action   adventur...|\n",
      "|  s6069|  movie|               a m i|         rusty nixon|       canada| 10 1 2020|        2019| tv ma|  77 min|       horror movies|\n",
      "|  s6360|  movie|                boom|       kaizad gustad|        india|  3 1 2018|        2003| tv ma|  79 min|action   adventur...|\n",
      "|  s6437|  movie|       celluloid man|shivendra singh d...|        india|  4 1 2017|        2012| tv pg| 156 min|documentaries  in...|\n",
      "+-------+-------+--------------------+--------------------+-------------+----------+------------+------+--------+--------------------+\n",
      "only showing top 20 rows\n",
      "\n"
     ]
    }
   ],
   "source": [
    "import pandas as pd\n",
    "from pyspark.sql import SparkSession\n",
    "#from data_processing import preprocess_data\n",
    "\n",
    "# create SparkSession\n",
    "spark = SparkSession.builder.appName(\"DataPreprocessing\").getOrCreate()\n",
    "\n",
    "# read CSV file into DataFrame\n",
    "df = spark.read.format(\"csv\").option(\"header\", \"true\").option(\"inferSchema\", \"true\").load(\"C:/Users/rohit/OneDrive/Desktop/BDT/netflix.csv\")\n",
    "\n",
    "# call preprocess_data function\n",
    "processed_df = preprocess_data(df)\n",
    "\n",
    "#Raw Data\n",
    "#df1.show()\n",
    "\n",
    "# show processed data\n",
    "processed_df.show()\n",
    "#df.count()\n"
   ]
  },
  {
   "cell_type": "code",
   "execution_count": 5,
   "id": "de2b84c6",
   "metadata": {},
   "outputs": [
    {
     "name": "stdout",
     "output_type": "stream",
     "text": [
      "total number of records before preprocessing : 8791\n",
      "total number of records after preprocessing : 8789\n"
     ]
    }
   ],
   "source": [
    "print(\"total number of records before preprocessing :\",df.count())\n",
    "print(\"total number of records after preprocessing :\", processed_df.count())"
   ]
  },
  {
   "cell_type": "markdown",
   "id": "ae51f129",
   "metadata": {},
   "source": [
    "**<h3>Dataset-3</h3>**\n",
    "\n",
    "This dataset contains details about vaccinations by country by date."
   ]
  },
  {
   "cell_type": "code",
   "execution_count": 6,
   "id": "538b88ca",
   "metadata": {
    "scrolled": true
   },
   "outputs": [
    {
     "name": "stdout",
     "output_type": "stream",
     "text": [
      "country : StringType()\n",
      "iso_code : StringType()\n",
      "date : DateType()\n",
      "total_vaccinations : DoubleType()\n",
      "people_vaccinated : DoubleType()\n",
      "people_fully_vaccinated : DoubleType()\n",
      "daily_vaccinations_raw : DoubleType()\n",
      "daily_vaccinations : DoubleType()\n",
      "total_vaccinations_per_hundred : DoubleType()\n",
      "people_vaccinated_per_hundred : DoubleType()\n",
      "people_fully_vaccinated_per_hundred : DoubleType()\n",
      "daily_vaccinations_per_million : DoubleType()\n",
      "vaccines : StringType()\n",
      "source_name : StringType()\n",
      "source_website : StringType()\n",
      "+----------+--------+----------+------------------+-----------------+-----------------------+----------------------+------------------+------------------------------+-----------------------------+-----------------------------------+------------------------------+--------------------+--------------------+--------------------+\n",
      "|   country|iso_code|      date|total_vaccinations|people_vaccinated|people_fully_vaccinated|daily_vaccinations_raw|daily_vaccinations|total_vaccinations_per_hundred|people_vaccinated_per_hundred|people_fully_vaccinated_per_hundred|daily_vaccinations_per_million|            vaccines|         source_name|      source_website|\n",
      "+----------+--------+----------+------------------+-----------------+-----------------------+----------------------+------------------+------------------------------+-----------------------------+-----------------------------------+------------------------------+--------------------+--------------------+--------------------+\n",
      "| argentina|     arg|2021-06-30|        2.18442487|       1.75337697|              4310219.0|              375518.0|          327935.0|                          47.9|                        38.45|                               9.45|                        7191.0|cansino  moderna ...|  ministry of health|https   covidstat...|\n",
      "| argentina|     arg|2021-08-01|        3.32838547|       2.58283857|              7455067.0|              167315.0|          369762.0|                         72.98|                        56.63|                              16.35|                        8108.0|cansino  moderna ...|  ministry of health|https   covidstat...|\n",
      "| argentina|     arg|2021-08-28|        4.29975347|       2.83738347|             1.46229687|              243377.0|          372208.0|                         94.28|                        62.22|                              32.06|                        8161.0|cansino  moderna ...|  ministry of health|https   covidstat...|\n",
      "| argentina|     arg|2021-12-04|         7.1140937|       3.75989567|              3.0985077|              163108.0|          294853.0|                        155.99|                        82.44|                              67.94|                        6465.0|cansino  moderna ...|  ministry of health|https   covidstat...|\n",
      "|     aruba|     abw|2022-03-17|          168495.0|          87725.0|                80770.0|                  53.0|              27.0|                        157.19|                        81.84|                              75.35|                         252.0|     pfizer biontech| government of aruba|https   www gover...|\n",
      "| australia|     aus|2021-04-04|          844309.0|         762679.0|                81630.0|                1127.0|           43221.0|                          3.27|                         2.96|                               0.32|                        1676.0|moderna  oxford a...|government of aus...|https   covidbase...|\n",
      "| australia|     aus|2021-06-05|         5016352.0|        4442925.0|               573427.0|               88745.0|          114779.0|                         19.45|                        17.23|                               2.22|                        4451.0|moderna  oxford a...|government of aus...|https   covidbase...|\n",
      "| australia|     aus|2021-10-10|        3.06435177|        1.7644757|             1.29982867|              165605.0|          276117.0|                        118.83|                        68.42|                               50.4|                       10707.0|moderna  oxford a...|government of aus...|https   covidbase...|\n",
      "|azerbaijan|     aze|2021-04-23|         1396391.0|         926076.0|               470315.0|               14424.0|           13867.0|                         13.66|                         9.06|                                4.6|                        1356.0|oxford astrazenec...|government of aze...|https   koronavir...|\n",
      "|   bahrain|     bhr|2021-03-28|          735717.0|         487640.0|               248077.0|               11716.0|           11783.0|                         42.08|                        27.89|                              14.19|                        6740.0|johnson johnson  ...|  ministry of health|https   covid19 w...|\n",
      "|   bahrain|     bhr|2021-12-18|         3097455.0|        1194968.0|              1168676.0|                5952.0|            8634.0|                        177.17|                        68.35|                              66.85|                        4939.0|johnson johnson  ...|  ministry of health|https   covid19 w...|\n",
      "|bangladesh|     bgd|2021-11-29|        9.57075927|       5.92868937|             3.64206997|             1920779.0|          792942.0|                         57.55|                        35.65|                               21.9|                        4768.0|johnson johnson  ...|directorate gener...|http   103 247 23...|\n",
      "|  barbados|     brb|2021-05-21|          129216.0|          76336.0|                52880.0|                1230.0|            1522.0|                         44.91|                        26.53|                              18.38|                        5290.0|oxford astrazenec...|  ministry of health|https   gisbarbad...|\n",
      "|   belgium|     bel|2021-10-12|        1.71663197|        8687518.0|              8530052.0|               35519.0|           30480.0|                        147.57|                        74.68|                              73.33|                        2620.0|johnson johnson  ...|           sciensano|https   epistat w...|\n",
      "|   belgium|     bel|2022-03-16|         2.5189097|        9228499.0|              9118438.0|               17566.0|            6304.0|                        216.54|                        79.33|                              78.39|                         542.0|johnson johnson  ...|           sciensano|https   epistat w...|\n",
      "|   bolivia|     bol|2021-07-18|         3528220.0|        2616902.0|               929229.0|               36449.0|           58671.0|                         29.82|                        22.12|                               7.85|                        4958.0|johnson johnson  ...|ministry of healt...|https   github co...|\n",
      "|   bolivia|     bol|2022-01-14|        1.10383957|        6395421.0|              4903383.0|               72624.0|           78859.0|                         93.29|                        54.05|                              41.44|                        6664.0|johnson johnson  ...|ministry of healt...|https   github co...|\n",
      "|    brazil|     bra|2021-02-10|         4406835.0|        4326075.0|                80760.0|              286503.0|          229243.0|                          2.06|                         2.02|                               0.04|                        1071.0|johnson johnson  ...|state governments...|https   coronavir...|\n",
      "|    brazil|     bra|2021-09-03|       2.000777758|      1.386530618|             6.60936017|             1935385.0|         1718911.0|                          93.5|                        64.79|                              30.89|                        8033.0|johnson johnson  ...|state governments...|https   coronavir...|\n",
      "|  bulgaria|     bgr|2021-01-18|           19638.0|          18524.0|                 1114.0|                1185.0|             782.0|                          0.28|                         0.27|                               0.02|                         113.0|johnson johnson  ...|  ministry of health|https   coronavir...|\n",
      "+----------+--------+----------+------------------+-----------------+-----------------------+----------------------+------------------+------------------------------+-----------------------------+-----------------------------------+------------------------------+--------------------+--------------------+--------------------+\n",
      "only showing top 20 rows\n",
      "\n"
     ]
    }
   ],
   "source": [
    "import pandas as pd\n",
    "from pyspark.sql import SparkSession\n",
    "#from data_processing import preprocess_data\n",
    "\n",
    "# create SparkSession\n",
    "spark = SparkSession.builder.appName(\"DataPreprocessing\").getOrCreate()\n",
    "\n",
    "# read CSV file into DataFrame\n",
    "df = spark.read.format(\"csv\").option(\"header\", \"true\").option(\"inferSchema\", \"true\").load(\"C:/Users/rohit/OneDrive/Desktop/BDT/country_vaccinations.csv\")\n",
    "\n",
    "# call preprocess_data function\n",
    "processed_df = preprocess_data(df)\n",
    "\n",
    "#Raw Data\n",
    "#df.show()\n",
    "\n",
    "# show processed data\n",
    "processed_df.show()\n",
    "#df.count()\n"
   ]
  },
  {
   "cell_type": "code",
   "execution_count": 7,
   "id": "fb60b15c",
   "metadata": {},
   "outputs": [
    {
     "name": "stdout",
     "output_type": "stream",
     "text": [
      "total number of records before preprocessing : 86512\n",
      "total number of records after preprocessing : 30847\n"
     ]
    }
   ],
   "source": [
    "print(\"total number of records before preprocessing :\",df.count())\n",
    "print(\"total number of records after preprocessing :\", processed_df.count())"
   ]
  },
  {
   "cell_type": "markdown",
   "id": "1a6d910b",
   "metadata": {},
   "source": [
    "**<h3>Dataset-4</h3>**\n",
    "\n",
    "This is a subset of titanic dataset which contains details of the passengers on board the ship.<br>\n"
   ]
  },
  {
   "cell_type": "code",
   "execution_count": 8,
   "id": "98e0256f",
   "metadata": {},
   "outputs": [
    {
     "name": "stdout",
     "output_type": "stream",
     "text": [
      "PassengerId : IntegerType()\n",
      "Pclass : IntegerType()\n",
      "Name : StringType()\n",
      "Sex : StringType()\n",
      "Age : DoubleType()\n",
      "SibSp : IntegerType()\n",
      "Parch : IntegerType()\n",
      "Ticket : StringType()\n",
      "Fare : DoubleType()\n",
      "Cabin : StringType()\n",
      "Embarked : StringType()\n",
      "+-----------+------+--------------------+------+----+-----+-----+-----------+------+-------+--------+\n",
      "|PassengerId|Pclass|                Name|   Sex| Age|SibSp|Parch|     Ticket|  Fare|  Cabin|Embarked|\n",
      "+-----------+------+--------------------+------+----+-----+-----+-----------+------+-------+--------+\n",
      "|       1144|     1|clark  mr  walter...|  male|27.0|    1|    0|      13508|136.78|    c89|       c|\n",
      "|       1287|     1|smith  mrs  lucie...|female|18.0|    1|    0|      13695|  60.0|    c31|       s|\n",
      "|       1069|     1|stengel  mr  char...|  male|54.0|    1|    0|      11778| 55.44|   c116|       c|\n",
      "|        969|     1|cornell  mrs  rob...|female|55.0|    2|    0|      11770|  25.7|   c101|       s|\n",
      "|       1185|     1|dodge  dr  washin...|  male|53.0|    1|    1|      33638| 81.86|    a34|       s|\n",
      "|       1006|     1|straus  mrs  isid...|female|63.0|    1|    0|   pc 17483|221.78|c55 c57|       s|\n",
      "|        926|     1|mock  mr  philipp...|  male|30.0|    1|    0|      13236| 57.75|    c78|       c|\n",
      "|       1303|     1|minahan  mrs  wil...|female|37.0|    1|    0|      19928|  90.0|    c78|       q|\n",
      "|       1164|     1|clark  mrs  walte...|female|26.0|    1|    0|      13508|136.78|    c89|       c|\n",
      "|       1001|     2|   swane  mr  george|  male|18.5|    0|    0|     248734|  13.0|      f|       s|\n",
      "|        992|     1|stengel  mrs  cha...|female|43.0|    1|    0|      11778| 55.44|   c116|       c|\n",
      "|        906|     1|chaffee  mrs  her...|female|47.0|    1|    0|w e p  5734| 61.18|    e31|       s|\n",
      "|       1208|     1|spencer  mr  will...|  male|57.0|    1|    0|   pc 17569|146.52|    b78|       c|\n",
      "|        942|     1|smith  mr  lucien...|  male|24.0|    1|    0|      13695|  60.0|    c31|       s|\n",
      "|       1256|     1|harder  mrs  geor...|female|25.0|    1|    0|      11765| 55.44|    e50|       c|\n",
      "|       1218|     2|becker  miss  rut...|female|12.0|    2|    1|     230136|  39.0|     f4|       s|\n",
      "|       1076|     1|douglas  mrs  fre...|female|27.0|    1|    1|   pc 17558|247.52|b58 b60|       c|\n",
      "|       1282|     1|payne  mr  vivian...|  male|23.0|    0|    0|      12749|  93.5|    b24|       s|\n",
      "|       1213|     3|krekorian  mr  ne...|  male|25.0|    0|    0|       2654|  7.23|  f e57|       c|\n",
      "|       1023|     1|gracie  col  arch...|  male|53.0|    0|    0|     113780|  28.5|    c51|       c|\n",
      "+-----------+------+--------------------+------+----+-----+-----+-----------+------+-------+--------+\n",
      "only showing top 20 rows\n",
      "\n"
     ]
    }
   ],
   "source": [
    "import pandas as pd\n",
    "from pyspark.sql import SparkSession\n",
    "#from data_processing import preprocess_data\n",
    "\n",
    "# create SparkSession\n",
    "spark = SparkSession.builder.appName(\"DataPreprocessing\").getOrCreate()\n",
    "\n",
    "# read CSV file into DataFrame\n",
    "df = spark.read.format(\"csv\").option(\"header\", \"true\").option(\"inferSchema\", \"true\").load(\"C:/Users/rohit/OneDrive/Desktop/BDT/test.csv\")\n",
    "\n",
    "# call preprocess_data function\n",
    "processed_df = preprocess_data(df)\n",
    "\n",
    "#Raw Data\n",
    "#df.show()\n",
    "\n",
    "# show processed data\n",
    "processed_df.show()\n",
    "#df.count()\n"
   ]
  },
  {
   "cell_type": "code",
   "execution_count": 9,
   "id": "021f3de0",
   "metadata": {},
   "outputs": [
    {
     "name": "stdout",
     "output_type": "stream",
     "text": [
      "total number of records before preprocessing : 418\n",
      "total number of records after preprocessing : 87\n"
     ]
    }
   ],
   "source": [
    "print(\"total number of records before preprocessing :\",df.count())\n",
    "print(\"total number of records after preprocessing :\", processed_df.count())"
   ]
  },
  {
   "cell_type": "markdown",
   "id": "3c116a59",
   "metadata": {},
   "source": [
    "<h3>It should also be noted that this module removes records with null values  but sometimes we might need the details of these records too so in that case we can modify the code to fill the cells containing null values with either of mean or median or mode depending on our use case</h3>"
   ]
  }
 ],
 "metadata": {
  "kernelspec": {
   "display_name": "Python 3 (ipykernel)",
   "language": "python",
   "name": "python3"
  },
  "language_info": {
   "codemirror_mode": {
    "name": "ipython",
    "version": 3
   },
   "file_extension": ".py",
   "mimetype": "text/x-python",
   "name": "python",
   "nbconvert_exporter": "python",
   "pygments_lexer": "ipython3",
   "version": "3.9.13"
  }
 },
 "nbformat": 4,
 "nbformat_minor": 5
}
